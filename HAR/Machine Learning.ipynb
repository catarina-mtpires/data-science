{
 "cells": [
  {
   "cell_type": "markdown",
   "metadata": {},
   "source": [
    "# Machine Learning - Human Activity Prediction\n",
    "\n",
    "In this notebook we will use traditional supervised learning algorithms to create machine learning classification models for Human Activity recognition. The goal is to correctly predict the activity being performed based on the recorded signal. There are 6 possible activities: walking, walking upstairs, walking downstairs, sitting, standing, and laying.\n",
    "\n",
    "The dataset used already provided features extracted from the signals, normalized within the interval [-1, 1]. Therefore, this dataset does not required data cleaning, processing, and feature extraction. \n",
    "\n",
    "We can then start by reading the features' files and create a Pandas DataFrame to store their values. "
   ]
  },
  {
   "cell_type": "code",
   "execution_count": 1,
   "metadata": {},
   "outputs": [],
   "source": [
    "import numpy as np\n",
    "import pandas as pd\n",
    "import matplotlib.pyplot as plt\n",
    "\n",
    "\n",
    "# Load txt files\n",
    "features = np.loadtxt('data/features.txt', dtype=str, usecols=1)\n",
    "x_train = np.loadtxt('data/train/X_train.txt')\n",
    "x_test = np.loadtxt('data/test/X_test.txt')\n",
    "Y_train = np.loadtxt('data/train/y_train.txt', dtype='int')\n",
    "Y_test = np.loadtxt('data/test/y_test.txt', dtype='int')\n",
    "\n",
    "# Convert data to dataframe, with columns corresponding to the names of the features\n",
    "X_train = pd.DataFrame(x_train, columns=features)\n",
    "X_test = pd.DataFrame(x_test, columns=features)"
   ]
  },
  {
   "cell_type": "markdown",
   "metadata": {},
   "source": [
    "### Model training\n",
    "\n",
    "We now have two separated sets of data, train and test. The first one will be used to train the model and the second will be used to test it.\n",
    "We will use scikit-learn supervise learning algorithms (Decision Tree, Random Forest, K-Nearest Neighbors, Support Vector Machine, Naive Bayes, and Logistic Regression) to train different models and compare their performance."
   ]
  },
  {
   "cell_type": "code",
   "execution_count": 2,
   "metadata": {},
   "outputs": [],
   "source": [
    "from sklearn import ensemble, svm, naive_bayes, tree, linear_model, neighbors\n",
    "\n",
    "\n",
    "dt_clf = tree.DecisionTreeClassifier(max_depth=4, max_leaf_nodes=12)\n",
    "rf_clf = ensemble.RandomForestClassifier(n_estimators=50, criterion='gini', max_depth=5, bootstrap=True, min_samples_split=10)\n",
    "knn_clf = neighbors.KNeighborsClassifier()\n",
    "svm_clf = svm.SVC(probability=True, gamma='auto', kernel='linear')\n",
    "nb_clf = naive_bayes.GaussianNB()\n",
    "lr_clf = linear_model.LogisticRegression(multi_class='auto', solver='liblinear')\n",
    "\n",
    "clfs = [dt_clf, rf_clf, knn_clf, svm_clf, nb_clf, lr_clf]\n",
    "clfs_names = ['Decision Tree', 'Random Forest', 'KNN', 'SVM', 'Naive Bayes', 'Logistic Regression']"
   ]
  },
  {
   "cell_type": "code",
   "execution_count": 3,
   "metadata": {},
   "outputs": [],
   "source": [
    "trained_models = [clf.fit(X_train, Y_train) for clf in clfs]  # Fit train data to the classifiers"
   ]
  },
  {
   "cell_type": "markdown",
   "metadata": {},
   "source": [
    "### Prediction\n",
    "\n",
    "We have 6 different models that were fitted to the train set. We can use these models to predict the activity the user was performing at the time the signal was recorded. The prediction will be made both to the train and test set and the output of each prediction will be an array with values between 1 and 6 (from walking, to laying) "
   ]
  },
  {
   "cell_type": "code",
   "execution_count": 4,
   "metadata": {},
   "outputs": [],
   "source": [
    "prediction_train = [model.predict(X_train) for model in trained_models]  # predict train set labels\n",
    "prediction_test = [model.predict(X_test) for model in trained_models]  # predict test set labels"
   ]
  },
  {
   "cell_type": "markdown",
   "metadata": {},
   "source": [
    "### Performance Evaluation\n",
    "\n",
    "After making the predictions, we need to evaluate the model performance. Ideally we want the model to predict with 100% accuracy both the train and test sets. It is normal to have a slighly higher accuracy for the train set than the test set, since the train set was used to train the model and the model has already seen it. However, sometimes we might have a significant difference in the accuracy of both sets. Those cases are a result of overfitting the model to the train set and they require optimization.\n",
    "\n",
    "We will start to evaluate the models performance by calculating their accuracy. In order to do so, we need to compare the predicted activities with the real activities (Y_train and Y_test) - if the two are the same, then we will have achieved 100% accuracy."
   ]
  },
  {
   "cell_type": "code",
   "execution_count": 5,
   "metadata": {},
   "outputs": [],
   "source": [
    "from sklearn import metrics\n",
    "\n",
    "accuracy_train = [round(metrics.accuracy_score(Y_train, Y_pred) * 100, 2) for Y_pred in prediction_train]\n",
    "accuracy_test = [round(metrics.accuracy_score(Y_test, Y_pred) * 100, 2) for Y_pred in prediction_test]"
   ]
  },
  {
   "cell_type": "code",
   "execution_count": 6,
   "metadata": {},
   "outputs": [
    {
     "data": {
      "text/html": [
       "<div>\n",
       "<style scoped>\n",
       "    .dataframe tbody tr th:only-of-type {\n",
       "        vertical-align: middle;\n",
       "    }\n",
       "\n",
       "    .dataframe tbody tr th {\n",
       "        vertical-align: top;\n",
       "    }\n",
       "\n",
       "    .dataframe thead th {\n",
       "        text-align: right;\n",
       "    }\n",
       "</style>\n",
       "<table border=\"1\" class=\"dataframe\">\n",
       "  <thead>\n",
       "    <tr style=\"text-align: right;\">\n",
       "      <th></th>\n",
       "      <th>Accuracy Train (%)</th>\n",
       "      <th>Accuracy Test (%)</th>\n",
       "    </tr>\n",
       "  </thead>\n",
       "  <tbody>\n",
       "    <tr>\n",
       "      <th>Decision Tree</th>\n",
       "      <td>89.83</td>\n",
       "      <td>80.96</td>\n",
       "    </tr>\n",
       "    <tr>\n",
       "      <th>Random Forest</th>\n",
       "      <td>94.74</td>\n",
       "      <td>89.21</td>\n",
       "    </tr>\n",
       "    <tr>\n",
       "      <th>KNN</th>\n",
       "      <td>98.44</td>\n",
       "      <td>90.16</td>\n",
       "    </tr>\n",
       "    <tr>\n",
       "      <th>SVM</th>\n",
       "      <td>99.39</td>\n",
       "      <td>96.40</td>\n",
       "    </tr>\n",
       "    <tr>\n",
       "      <th>Naive Bayes</th>\n",
       "      <td>74.63</td>\n",
       "      <td>77.03</td>\n",
       "    </tr>\n",
       "    <tr>\n",
       "      <th>Logistic Regression</th>\n",
       "      <td>99.09</td>\n",
       "      <td>96.20</td>\n",
       "    </tr>\n",
       "  </tbody>\n",
       "</table>\n",
       "</div>"
      ],
      "text/plain": [
       "                     Accuracy Train (%)  Accuracy Test (%)\n",
       "Decision Tree                     89.83              80.96\n",
       "Random Forest                     94.74              89.21\n",
       "KNN                               98.44              90.16\n",
       "SVM                               99.39              96.40\n",
       "Naive Bayes                       74.63              77.03\n",
       "Logistic Regression               99.09              96.20"
      ]
     },
     "metadata": {},
     "output_type": "display_data"
    }
   ],
   "source": [
    "# create a dataframe with two columns - accuracy of the train set and accuracy of the test set\n",
    "accuracy = pd.DataFrame(data ={'Accuracy Train (%)': accuracy_train, 'Accuracy Test (%)': accuracy_test})\n",
    "\n",
    "# the rows correspond to the algorithms used\n",
    "accuracy.index=clfs_names\n",
    "\n",
    "display(accuracy)"
   ]
  },
  {
   "cell_type": "markdown",
   "metadata": {},
   "source": [
    "The Support Vector Machine and Logistic Regression classifiers obtained the best accuracy in both sets, having ~99% and ~96% accuracy for the train and test sets, respectively. On the opposite side, Naive Bayes obtained the worse results, with an accuracy below 80% for both sets.\n",
    "\n",
    "We will now focus our attention on the Support Vector Machine and Logistic Regression classifiers and we will visualize the correspondent confusion matrices. The confusion matrix is a matrix that can be used to access the performance of a classification model. The rows of the matrix indicate the true labels and the columns indicates the prediction - each value of the matrix equals the number of observations of the activity <i>i</i> predicted as <i>j</i>. The confusion matrix of a perfect classifier would be a diagonal matrix, that is, every sample is correctly classified. We can also present the normalized confusion matrix, in which the values correspond to the percentage of samples and it is calculated by dividing the original matrix by the total number of samples. "
   ]
  },
  {
   "cell_type": "code",
   "execution_count": 7,
   "metadata": {},
   "outputs": [],
   "source": [
    "cm_svm_train = metrics.confusion_matrix(Y_train, prediction_train[3])\n",
    "cm_svm_test = metrics.confusion_matrix(Y_test, prediction_test[3])\n",
    "cm_lg_train = metrics.confusion_matrix(Y_train, prediction_train[5])\n",
    "cm_lg_test = metrics.confusion_matrix(Y_test, prediction_test[5])"
   ]
  },
  {
   "cell_type": "markdown",
   "metadata": {},
   "source": [
    "We can use the Seaborn Heatmap to plot the normalized confusion matrices, starting with the SVM classifier."
   ]
  },
  {
   "cell_type": "code",
   "execution_count": 8,
   "metadata": {},
   "outputs": [
    {
     "name": "stderr",
     "output_type": "stream",
     "text": [
      "C:\\Users\\catam\\Anaconda3\\lib\\site-packages\\statsmodels\\tools\\_testing.py:19: FutureWarning: pandas.util.testing is deprecated. Use the functions in the public API at pandas.testing instead.\n",
      "  import pandas.util.testing as tm\n"
     ]
    },
    {
     "data": {
      "image/png": "[encoded data removed]",
      "text/plain": [
       "<Figure size 864x360 with 2 Axes>"
      ]
     },
     "metadata": {
      "needs_background": "light"
     },
     "output_type": "display_data"
    }
   ],
   "source": [
    "import seaborn as sns\n",
    "\n",
    "labels = ['Walking', 'Upstairs', 'Downstairs', 'Sitting', 'Standing', 'Laying']\n",
    "\n",
    "plt.figure(figsize=(12, 5))\n",
    "plt.subplot(1, 2, 1)\n",
    "sns.heatmap(np.round(cm_svm_train.astype('float') / cm_svm_train.sum(axis=1)[:, np.newaxis], 2), annot=True, cmap='Blues', cbar=False, xticklabels=labels, yticklabels=labels)\n",
    "plt.title('Train Set')\n",
    "plt.subplot(1, 2, 2)\n",
    "sns.heatmap(np.round(cm_svm_test.astype('float') / cm_svm_test.sum(axis=1)[:, np.newaxis], 2), annot=True, cmap='Blues', cbar=False, xticklabels=labels, yticklabels=labels)\n",
    "plt.title('Test Set')\n",
    "plt.suptitle('SVM Classifier')\n",
    "plt.tight_layout()\n"
   ]
  },
  {
   "cell_type": "markdown",
   "metadata": {},
   "source": [
    "Looking at the confusion matrix of the train set we can see that it is almost a diagonal matrix - only the sitting and standing classes have some misclassified samples. As expected, the classifier also misclassified some test samples of the Sitting and Standing classes. Besides that, we can also conclude that it also misclassified some of the Walking, Walking Upstairs and Walking Downstairs classes, despite being perfect at classified these classes in the train set."
   ]
  },
  {
   "cell_type": "markdown",
   "metadata": {},
   "source": [
    "We can now also look at the confusion matrices of the Logistic Regression."
   ]
  },
  {
   "cell_type": "code",
   "execution_count": 9,
   "metadata": {},
   "outputs": [
    {
     "data": {
      "image/png": "[encoded data removed]",
      "text/plain": [
       "<Figure size 864x360 with 2 Axes>"
      ]
     },
     "metadata": {
      "needs_background": "light"
     },
     "output_type": "display_data"
    }
   ],
   "source": [
    "plt.figure(figsize=(12, 5))\n",
    "plt.subplot(1, 2, 1)\n",
    "sns.heatmap(np.round(cm_lg_train.astype('float') / cm_lg_train.sum(axis=1)[:, np.newaxis], 2), annot=True, cmap='Blues', cbar=False, xticklabels=labels, yticklabels=labels)\n",
    "plt.title('Train Set')\n",
    "plt.subplot(1, 2, 2)\n",
    "sns.heatmap(np.round(cm_lg_test.astype('float') / cm_lg_test.sum(axis=1)[:, np.newaxis], 2), annot=True, cmap='Blues', cbar=False, xticklabels=labels, yticklabels=labels)\n",
    "plt.title('Test Set')\n",
    "plt.suptitle('Logistic Regression')\n",
    "plt.tight_layout()"
   ]
  },
  {
   "cell_type": "markdown",
   "metadata": {},
   "source": [
    "Regarding the Logistic Regression model, the confusion matrix of the train set is very similar to the one for the Support Vector Machine. As for the test set, we can see that the Logistic Regression model also classified correctly 100% of the walking samples. However, some Walking Upstairs and Walking Downstairs samples are still misclassified as only Walking."
   ]
  },
  {
   "cell_type": "markdown",
   "metadata": {},
   "source": [
    "Both models achieved an excellent accuracy for this problem. Nonetheless, they can be improved to distinguish better the Standing and Laying classes."
   ]
  }
 ],
 "metadata": {
  "kernelspec": {
   "display_name": "Python 3",
   "language": "python",
   "name": "python3"
  },
  "language_info": {
   "codemirror_mode": {
    "name": "ipython",
    "version": 3
   },
   "file_extension": ".py",
   "mimetype": "text/x-python",
   "name": "python",
   "nbconvert_exporter": "python",
   "pygments_lexer": "ipython3",
   "version": "3.7.3"
  }
 },
 "nbformat": 4,
 "nbformat_minor": 2
}
